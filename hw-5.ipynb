{
 "cells": [
  {
   "cell_type": "markdown",
   "metadata": {},
   "source": [
    "# Cash-Karp Runge-Kutta coupled ODE solver"
   ]
  },
  {
   "cell_type": "code",
   "execution_count": null,
   "metadata": {},
   "outputs": [],
   "source": [
    "%matplotlib inline\n",
    "import matplotlib.pyplot as plt\n",
    "import numpy as np"
   ]
  },
  {
   "cell_type": "markdown",
   "metadata": {},
   "source": [
    "Define the coupled derivatives we need to integrate"
   ]
  },
  {
   "cell_type": "code",
   "execution_count": null,
   "metadata": {},
   "outputs": [],
   "source": [
    "def dydx(x,y):\n",
    "    #original diffeq is d^2y/dx^2 = -y\n",
    "    \n",
    "    #write as two coupled ODEs\n",
    "        #dy/dx = z\n",
    "        #dz/dx = -y\n",
    "        \n",
    "    #set y = y[0]\n",
    "    #set z = y[1]\n",
    "    y_derivs = np.zeros(2)\n",
    "    y_derivs[0] = y[1] #dy/dx = z \n",
    "    y_derivs[1] = -1 * y[0] # dz/dx = -y\n",
    "    \n",
    "    return y_derivs"
   ]
  },
  {
   "cell_type": "markdown",
   "metadata": {},
   "source": [
    "Build the 5th order RK Method"
   ]
  },
  {
   "cell_type": "code",
   "execution_count": null,
   "metadata": {},
   "outputs": [],
   "source": [
    "def rk5_mv_core(dydx,xi,yi,nv,h):\n",
    "    \n",
    "    #declare k arrays\n",
    "    k1 = np.zeros(nv)\n",
    "    k2 = np.zeros(nv)\n",
    "    k3 = np.zeros(nv)\n",
    "    k4 = np.zeros(nv)\n",
    "    k5 = np.zeros(nv)\n",
    "    k6 = np.zeros(nv)\n",
    "    \n",
    "    #set specific coefficients such that our error will be embedded in our formula and not require\n",
    "    #extraneous calculations\n",
    "    \n",
    "    a_2 = 1/5.\n",
    "    a_3 = 3/10.\n",
    "    a_4 = 3/5.\n",
    "    a_5 = 1.\n",
    "    a_6 = 7/8.\n",
    "    \n",
    "    b_21 = 1/5.\n",
    "    \n",
    "    b_31 = 3/40.\n",
    "    b_32 = 9/40.\n",
    "    \n",
    "    b_41= 3/10.\n",
    "    b_42 = -1 * 9/10.\n",
    "    b_43 = 6/5.\n",
    "    \n",
    "    b_51 = -1 * 11/54.\n",
    "    b_52 = 5/2.\n",
    "    b_53 = -70/27.\n",
    "    b_54 = 35/27.\n",
    "    \n",
    "    b_61 = 1631/55296.\n",
    "    b_62 = 175/512.\n",
    "    b_63 = 575/13824.\n",
    "    b_64 = 44275/110592.\n",
    "    b_65 = 253/5096.\n",
    "    \n",
    "    c_1 = 37/378.\n",
    "    c_2 = 0\n",
    "    c_3 = 250/621.\n",
    "    c_4 = 125/594.\n",
    "    c_5 = 0\n",
    "    c_6 = 512/1771.\n",
    "    \n",
    "    c_10 = 2825/27648.\n",
    "    c_20 = 0\n",
    "    c_30 = 18575/48384.\n",
    "    c_40 = 13525/55296.\n",
    "    c_50 = 277/14336.\n",
    "    c_60 = 1/4.\n",
    "    \n",
    "    #declare a temporary y array\n",
    "    y_temp = np.zeros(nv)\n",
    "    \n",
    "    #get k1 values\n",
    "    y_derivs = dydx(xi, yi)\n",
    "    k1[:] = h*y_derivs[:]\n",
    "    \n",
    "    #get k2 values\n",
    "    y_derivs = dydx(xi + a_2*h , yi[:] + b_21*k1[:])\n",
    "    k2[:] = h*y_derivs[:]\n",
    "    \n",
    "    #get k3 values\n",
    "    y_derivs = dydx(xi + a_3*h, yi[:] + b_32*k2[:] + b_31*k1[:])\n",
    "    k3[:] = h*y_derivs[:]\n",
    "    \n",
    "    #get k4 values\n",
    "    y_derivs = dydx(xi + a_4*h, yi[:] + b_43*k3[:] + b_42*k2[:] + b_41*k1[:])\n",
    "    k4[:] = h*y_derivs[:]\n",
    "    \n",
    "    #get k5 values\n",
    "    y_derivs = dydx(xi + a_5*h, yi[:] + b_54*k4[:] + b_53*k3[:] + b_52*k2[:] + b_51*k1[:])\n",
    "    k5[:] = h*y_derivs[:]\n",
    "    \n",
    "    #get k6 values\n",
    "    y_derivs = dydx(xi + a_6*h, yi[:] + b_65*k5[:] + b_64*k4[:] + b_63*k3[:] + b_62*k2[:] + b_61*k1[:]) \n",
    "    k6[:] = h*y_derivs[:]\n",
    "    \n",
    "    #advance y by a step h\n",
    "    \n",
    "    #5th order solution\n",
    "    yipo = yi + c_1*k1 + c_2*k2 + c_3*k3 + c_4*k4 + c_5*k5 + c_6*k6\n",
    "    \n",
    "    #embedded 4th order solution\n",
    "    yipo0 = yi + c_10*k1 + c_20*k2 + c_30*k3 + c_40*k4 + c_50*k5 + c_60*k6\n",
    "    \n",
    "    return yipo, yipo0"
   ]
  },
  {
   "cell_type": "markdown",
   "metadata": {},
   "source": [
    "Build driver for RK5 with adaptive step size"
   ]
  },
  {
   "cell_type": "code",
   "execution_count": null,
   "metadata": {},
   "outputs": [],
   "source": [
    "def rk5_mv_ad(dydx, x_i, y_i, nv, h, tol):\n",
    "    \n",
    "    #define safety scale\n",
    "    SAFETY = 0.9\n",
    "    H_NEW_FAC = 2.0\n",
    "    \n",
    "    #max iteration variable\n",
    "    imax= 1000\n",
    "    \n",
    "    #declare iteration variable\n",
    "    i = 0\n",
    "    \n",
    "    #create an error\n",
    "    Delta = np.full(nv, 2*tol)\n",
    "    \n",
    "    h_step = h\n",
    "    \n",
    "    #adjust step\n",
    "    while(Delta.max()/tol > 1.0):\n",
    "        \n",
    "        y_2 = rk5_mv_core(dydx, x_i, y_i, nv, h_step)[0]\n",
    "        y_20 = rk5_mv_core(dydx, x_i, y_i, nv, h_step)[1]\n",
    "        \n",
    "        #compute an error\n",
    "        \n",
    "        #with these coefficients, our error estimate is 5th order soln - 4th order soln\n",
    "        Delta = y_2 - y_20\n",
    "        \n",
    "        #if error is too large, take a smaller step\n",
    "        if(Delta.max()/tol > 1.0):\n",
    "            h_step *= SAFETY * (Delta.max()/tol)**(-0.25)\n",
    "            \n",
    "        #check the iteration\n",
    "        if(i>=imax):\n",
    "            print(\"Too many iterations in rk5_mv_ad()\")\n",
    "            raise StopIteration(\"Ending after i = \", i)\n",
    "            \n",
    "        #iterate\n",
    "        i+=1\n",
    "        \n",
    "    #next time, try to take a bigger step\n",
    "    h_new = np.fmin(h_step * (Delta.max()/tol)**(-0.9), h_step*H_NEW_FAC)\n",
    "    \n",
    "    #return the answer, a new step, and the step we actually took\n",
    "    return y_2, h_new, h_step"
   ]
  },
  {
   "cell_type": "markdown",
   "metadata": {},
   "source": [
    "Build wrapper function for RK5"
   ]
  },
  {
   "cell_type": "code",
   "execution_count": null,
   "metadata": {},
   "outputs": [],
   "source": [
    "def rk5_mv(dydx,a,b,y_a,tol):\n",
    "    \n",
    "    #define our starting step\n",
    "    xi = a\n",
    "    yi = y_a.copy()\n",
    "\n",
    "    #an initial (very small) step\n",
    "    h = 1.0e-4 * (b-a)\n",
    "    \n",
    "    imax = 1000\n",
    "    \n",
    "    i = 0\n",
    "    \n",
    "    #set the number of coupled ODEs to the size of y_a\n",
    "    nv = len(y_a)\n",
    "    \n",
    "    #set the initial conditions\n",
    "    x = np.full(1,a)\n",
    "    y = np.full((1,nv), y_a)\n",
    "    \n",
    "    #print (x)\n",
    "    #print (y)\n",
    "    \n",
    "    #set a flag\n",
    "    flag = 1\n",
    "    \n",
    "    #loop until we reach the right side\n",
    "    while(flag == 1):\n",
    "\n",
    "        #calculate y_i+1\n",
    "        yi_new, h_new, h_step = rk5_mv_ad(dydx, xi, yi, nv, h, tol)\n",
    "        \n",
    "        #update the step\n",
    "        h = h_new\n",
    "        \n",
    "        #stop if overshot boundary\n",
    "        if(xi+h_step>b):\n",
    "            \n",
    "            #take a smaller step\n",
    "            h = b-xi\n",
    "            \n",
    "            #recalculate y_i+1\n",
    "            yi_new, h_new, h_step = rk5_mv_ad(dydx, xi, yi, nv, h, tol)\n",
    "\n",
    "            flag = 0\n",
    "            \n",
    "        #update values\n",
    "        xi += h_step\n",
    "        yi[:] = yi_new[:]\n",
    "        \n",
    "        #add the step to the arrays\n",
    "        x = np.append(x,xi)\n",
    "        y_new = np.zeros((len(x), nv))\n",
    "        y_new[0:len(x)-1,:] = y\n",
    "        y_new[-1,:] = yi[:]\n",
    "        del y\n",
    "        y = y_new\n",
    "        \n",
    "        #prevent too many iterations\n",
    "        if(i>=imax):\n",
    "            \n",
    "            print(\"Maximum iterations reached.\")\n",
    "            raise StopIteration(\"Iteration number = \",i)\n",
    "            \n",
    "        #iterate\n",
    "        i += 1\n",
    "        \n",
    "        #output some information\n",
    "        s = \"i = %3d\\tx = %9.8f\\th = %9.8f\\tb=%9.8f\" % (i,xi,h_step,b)\n",
    "        print(s)\n",
    "        \n",
    "        if(xi==b):\n",
    "            flag = 0\n",
    "    \n",
    "    return x,y"
   ]
  },
  {
   "cell_type": "markdown",
   "metadata": {},
   "source": [
    "# Perform the Integration"
   ]
  },
  {
   "cell_type": "markdown",
   "metadata": {},
   "source": [
    "NOTE: Here, I receive a numerical runtime warning that I could not identify. However, this does not stop the notebook from runnning."
   ]
  },
  {
   "cell_type": "code",
   "execution_count": null,
   "metadata": {
    "scrolled": true
   },
   "outputs": [],
   "source": [
    "a = 0.0\n",
    "b = 2.0 * np.pi\n",
    "\n",
    "y_0 = np.zeros(2)\n",
    "y_0[0] = 0.0\n",
    "y_0[1] = 1.0\n",
    "nv = 2\n",
    "tol = 1.0e-6\n",
    "\n",
    "x,y = rk5_mv(dydx, a, b, y_0, tol)\n",
    "print(x)"
   ]
  },
  {
   "cell_type": "markdown",
   "metadata": {},
   "source": [
    "# Plot the numerical result and the analytical solution"
   ]
  },
  {
   "cell_type": "code",
   "execution_count": null,
   "metadata": {},
   "outputs": [],
   "source": [
    "xx = np.linspace(0,2.0*np.pi,1000)\n",
    "plt.plot(xx, np.sin(xx), linewidth=2, label = \"sin(x)\", color = \"orange\")\n",
    "plt.plot(xx, np.cos(xx), linewidth=2, label = \"cos(x)\",color = \"green\")\n",
    "\n",
    "plt.plot(x,y[:,0], label = 'y(x)', color = \"blue\")\n",
    "plt.plot(x,y[:,1], label = 'dy/dx', color = \"red\")\n",
    "\n",
    "\n",
    "\n",
    "plt.xlabel(\"x\")\n",
    "plt.ylabel(\"y, dy/dx\")\n",
    "plt.legend(frameon=False)"
   ]
  },
  {
   "cell_type": "markdown",
   "metadata": {},
   "source": [
    "# Plot the error"
   ]
  },
  {
   "cell_type": "code",
   "execution_count": null,
   "metadata": {},
   "outputs": [],
   "source": [
    "sin = np.sin(x)\n",
    "cos = np.cos(x)\n",
    "\n",
    "y_err = (y[:, 0]-sin)\n",
    "dydx_err = (y[:,1]-cos)\n",
    "\n",
    "plt.plot(x, y_err, label = \"y(x) Error\")\n",
    "plt.plot(x, dydx_err, label = \"dy/dx Error\")\n",
    "plt.legend(frameon=False)"
   ]
  },
  {
   "cell_type": "markdown",
   "metadata": {},
   "source": [
    "# Plot the absolute error"
   ]
  },
  {
   "cell_type": "code",
   "execution_count": null,
   "metadata": {},
   "outputs": [],
   "source": [
    "sin = np.sin(x)\n",
    "cos = np.cos(x)\n",
    "\n",
    "y_err = (np.fabs(y[:, 0]-sin))\n",
    "dydx_err = (np.fabs(y[:,1]-cos))\n",
    "\n",
    "plt.plot(x, y_err, label = \"y(x) Error\")\n",
    "plt.plot(x, dydx_err, label = \"dy/dx Error\")\n",
    "plt.legend(frameon=False)"
   ]
  }
 ],
 "metadata": {
  "kernelspec": {
   "display_name": "Python 3",
   "language": "python",
   "name": "python3"
  },
  "language_info": {
   "codemirror_mode": {
    "name": "ipython",
    "version": 3
   },
   "file_extension": ".py",
   "mimetype": "text/x-python",
   "name": "python",
   "nbconvert_exporter": "python",
   "pygments_lexer": "ipython3",
   "version": "3.6.4"
  }
 },
 "nbformat": 4,
 "nbformat_minor": 2
}
